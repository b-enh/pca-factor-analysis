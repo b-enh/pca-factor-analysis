{
 "cells": [
  {
   "cell_type": "markdown",
   "id": "a5913db8",
   "metadata": {},
   "source": [
    "# Initial Exploration Sandbox\n",
    "\n",
    "To explore the statistical and linear algebra based analysis of returns prices, I started by exploring the covariance/correlation between three stocks. I wanted to build an intuition and understanding of the financial interpretation of concepts that I previously only associated with pure maths or physical applications within my Engineering degree."
   ]
  }
 ],
 "metadata": {
  "language_info": {
   "name": "python"
  }
 },
 "nbformat": 4,
 "nbformat_minor": 5
}
